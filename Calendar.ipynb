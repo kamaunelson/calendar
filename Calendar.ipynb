{
 "cells": [
  {
   "cell_type": "code",
   "execution_count": 1,
   "id": "7be9d87d",
   "metadata": {},
   "outputs": [
    {
     "name": "stdout",
     "output_type": "stream",
     "text": [
      "Enter Year: 2002\n",
      "                                                  2002\n",
      "\n",
      "      January                     February                     March                       April\n",
      "Mo Tu We Th Fr Sa Su        Mo Tu We Th Fr Sa Su        Mo Tu We Th Fr Sa Su        Mo Tu We Th Fr Sa Su\n",
      "    1  2  3  4  5  6                     1  2  3                     1  2  3         1  2  3  4  5  6  7\n",
      " 7  8  9 10 11 12 13         4  5  6  7  8  9 10         4  5  6  7  8  9 10         8  9 10 11 12 13 14\n",
      "14 15 16 17 18 19 20        11 12 13 14 15 16 17        11 12 13 14 15 16 17        15 16 17 18 19 20 21\n",
      "21 22 23 24 25 26 27        18 19 20 21 22 23 24        18 19 20 21 22 23 24        22 23 24 25 26 27 28\n",
      "28 29 30 31                 25 26 27 28                 25 26 27 28 29 30 31        29 30\n",
      "\n",
      "        May                         June                        July                       August\n",
      "Mo Tu We Th Fr Sa Su        Mo Tu We Th Fr Sa Su        Mo Tu We Th Fr Sa Su        Mo Tu We Th Fr Sa Su\n",
      "       1  2  3  4  5                        1  2         1  2  3  4  5  6  7                  1  2  3  4\n",
      " 6  7  8  9 10 11 12         3  4  5  6  7  8  9         8  9 10 11 12 13 14         5  6  7  8  9 10 11\n",
      "13 14 15 16 17 18 19        10 11 12 13 14 15 16        15 16 17 18 19 20 21        12 13 14 15 16 17 18\n",
      "20 21 22 23 24 25 26        17 18 19 20 21 22 23        22 23 24 25 26 27 28        19 20 21 22 23 24 25\n",
      "27 28 29 30 31              24 25 26 27 28 29 30        29 30 31                    26 27 28 29 30 31\n",
      "\n",
      "     September                    October                     November                    December\n",
      "Mo Tu We Th Fr Sa Su        Mo Tu We Th Fr Sa Su        Mo Tu We Th Fr Sa Su        Mo Tu We Th Fr Sa Su\n",
      "                   1            1  2  3  4  5  6                     1  2  3                           1\n",
      " 2  3  4  5  6  7  8         7  8  9 10 11 12 13         4  5  6  7  8  9 10         2  3  4  5  6  7  8\n",
      " 9 10 11 12 13 14 15        14 15 16 17 18 19 20        11 12 13 14 15 16 17         9 10 11 12 13 14 15\n",
      "16 17 18 19 20 21 22        21 22 23 24 25 26 27        18 19 20 21 22 23 24        16 17 18 19 20 21 22\n",
      "23 24 25 26 27 28 29        28 29 30 31                 25 26 27 28 29 30           23 24 25 26 27 28 29\n",
      "30                                                                                  30 31\n",
      "\n"
     ]
    }
   ],
   "source": [
    "from calendar import*\n",
    "year = int(input('Enter Year: '))\n",
    "print(calendar(year, 2, 1, 8, 4))\n",
    "#2 stands for char for days \n",
    "#1 = 1 line for each week\n",
    "#8 = 8 rows for each month\n",
    "#4 = 4 columns for all months of the year"
   ]
  },
  {
   "cell_type": "code",
   "execution_count": null,
   "id": "c2199c11",
   "metadata": {},
   "outputs": [],
   "source": []
  }
 ],
 "metadata": {
  "kernelspec": {
   "display_name": "Python 3 (ipykernel)",
   "language": "python",
   "name": "python3"
  },
  "language_info": {
   "codemirror_mode": {
    "name": "ipython",
    "version": 3
   },
   "file_extension": ".py",
   "mimetype": "text/x-python",
   "name": "python",
   "nbconvert_exporter": "python",
   "pygments_lexer": "ipython3",
   "version": "3.9.12"
  }
 },
 "nbformat": 4,
 "nbformat_minor": 5
}
